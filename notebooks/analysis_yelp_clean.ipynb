{
 "cells": [
  {
   "cell_type": "code",
   "execution_count": 2,
   "id": "9c31b21f-c115-4ec4-aa8f-99655d5251f4",
   "metadata": {},
   "outputs": [
    {
     "name": "stdin",
     "output_type": "stream",
     "text": [
      "Postgres password:  ········\n"
     ]
    },
    {
     "name": "stdout",
     "output_type": "stream",
     "text": [
      "Project root: C:\\Users\\syksh\\Coursera\\SQL-Capstone-Yelp\\notebooks\n",
      "Sample output dir: C:\\Users\\syksh\\Coursera\\SQL-Capstone-Yelp\\notebooks\\data\\samples\n"
     ]
    }
   ],
   "source": [
    "# --- Setup: imports, engine, paths ---\n",
    "import os\n",
    "from getpass import getpass\n",
    "from pathlib import Path\n",
    "import pandas as pd\n",
    "from sqlalchemy import create_engine, text, bindparam\n",
    "from sqlalchemy.engine import URL\n",
    "\n",
    "# Project paths\n",
    "PROJECT_ROOT = Path.cwd().resolve()\n",
    "DATA_DIR     = PROJECT_ROOT / \"data\"\n",
    "SAMPLES_DIR  = DATA_DIR / \"samples\"\n",
    "SAMPLES_DIR.mkdir(parents=True, exist_ok=True)\n",
    "\n",
    "# DB connection (prompts user; no secrets saved in file)\n",
    "pg_password = getpass(\"Postgres password: \")\n",
    "engine = create_engine(URL.create(\n",
    "    \"postgresql+psycopg2\",\n",
    "    username=os.getenv(\"PGUSER\", \"postgres\"),\n",
    "    password=pg_password,\n",
    "    host=os.getenv(\"PGHOST\", \"localhost\"),\n",
    "    port=int(os.getenv(\"PGPORT\", 5432)),\n",
    "    database=os.getenv(\"PGDATABASE\", \"yelpdb\"),\n",
    "), future=True)\n",
    "\n",
    "print(\"Project root:\", PROJECT_ROOT)\n",
    "print(\"Sample output dir:\", SAMPLES_DIR)\n"
   ]
  },
  {
   "cell_type": "code",
   "execution_count": 1,
   "id": "67d9497d-c985-4c75-a0c2-66e6ac9900b7",
   "metadata": {},
   "outputs": [
    {
     "name": "stdin",
     "output_type": "stream",
     "text": [
      "Postgres password:  ········\n"
     ]
    },
    {
     "name": "stdout",
     "output_type": "stream",
     "text": [
      "('yelpdb', 6704)\n"
     ]
    }
   ],
   "source": [
    "from sqlalchemy import create_engine, text\n",
    "from sqlalchemy.engine import URL\n",
    "from getpass import getpass\n",
    "\n",
    "connection_url = URL.create(\n",
    "    \"postgresql+psycopg2\",\n",
    "    username=\"postgres\",\n",
    "    password=getpass(\"Postgres password: \"),  # you'll be prompted\n",
    "    host=\"localhost\",\n",
    "    port=5432,\n",
    "    database=\"yelpdb\",\n",
    ")\n",
    "engine = create_engine(connection_url, future=True)\n",
    "\n",
    "# sanity check\n",
    "with engine.connect() as conn:\n",
    "    print(conn.execute(text(\"select current_database(), count(*) from yelp.business_coffee\")).one())\n"
   ]
  },
  {
   "cell_type": "code",
   "execution_count": 2,
   "id": "75c713a8-19ac-470b-80be-79aa56eab99e",
   "metadata": {},
   "outputs": [
    {
     "name": "stdout",
     "output_type": "stream",
     "text": [
      "✅ View yelp.business_coffee_sanitized created.\n"
     ]
    }
   ],
   "source": [
    "from sqlalchemy import text\n",
    "\n",
    "with engine.begin() as conn:\n",
    "    conn.execute(text(\"\"\"\n",
    "        CREATE OR REPLACE VIEW yelp.business_coffee_sanitized AS\n",
    "        SELECT\n",
    "          business_id,\n",
    "          name,\n",
    "          city,\n",
    "          state,\n",
    "          stars::float          AS stars,\n",
    "          review_count::int     AS review_count,\n",
    "\n",
    "          -- price_level as int only when digits; else NULL\n",
    "          CASE\n",
    "            WHEN attributes ? 'RestaurantsPriceRange2'\n",
    "             AND (attributes->>'RestaurantsPriceRange2') ~ '^[0-9]+$'\n",
    "            THEN (attributes->>'RestaurantsPriceRange2')::int\n",
    "            ELSE NULL\n",
    "          END AS price_level,\n",
    "\n",
    "          -- WiFi: free/paid -> 1, no -> 0, others/None -> NULL\n",
    "          CASE lower(coalesce(attributes->>'WiFi',''))\n",
    "            WHEN 'free' THEN 1\n",
    "            WHEN 'paid' THEN 1\n",
    "            WHEN 'no'   THEN 0\n",
    "            ELSE NULL\n",
    "          END AS has_wifi,\n",
    "\n",
    "          -- OutdoorSeating: 'true'/'false' -> 1/0; else NULL\n",
    "          CASE lower(coalesce(attributes->>'OutdoorSeating',''))\n",
    "            WHEN 'true'  THEN 1\n",
    "            WHEN 'false' THEN 0\n",
    "            ELSE NULL\n",
    "          END AS outdoor_seating\n",
    "\n",
    "        FROM yelp.business_coffee;\n",
    "    \"\"\"))\n",
    "print(\"✅ View yelp.business_coffee_sanitized created.\")\n"
   ]
  },
  {
   "cell_type": "code",
   "execution_count": 3,
   "id": "6169bb7b-ee16-477a-8cdd-cc10de4afc1d",
   "metadata": {},
   "outputs": [
    {
     "data": {
      "text/html": [
       "<div>\n",
       "<style scoped>\n",
       "    .dataframe tbody tr th:only-of-type {\n",
       "        vertical-align: middle;\n",
       "    }\n",
       "\n",
       "    .dataframe tbody tr th {\n",
       "        vertical-align: top;\n",
       "    }\n",
       "\n",
       "    .dataframe thead th {\n",
       "        text-align: right;\n",
       "    }\n",
       "</style>\n",
       "<table border=\"1\" class=\"dataframe\">\n",
       "  <thead>\n",
       "    <tr style=\"text-align: right;\">\n",
       "      <th></th>\n",
       "      <th>r_price</th>\n",
       "      <th>r_wifi</th>\n",
       "      <th>r_outdoor</th>\n",
       "    </tr>\n",
       "  </thead>\n",
       "  <tbody>\n",
       "    <tr>\n",
       "      <th>0</th>\n",
       "      <td>0.234419</td>\n",
       "      <td>None</td>\n",
       "      <td>0.261505</td>\n",
       "    </tr>\n",
       "  </tbody>\n",
       "</table>\n",
       "</div>"
      ],
      "text/plain": [
       "    r_price r_wifi  r_outdoor\n",
       "0  0.234419   None   0.261505"
      ]
     },
     "execution_count": 3,
     "metadata": {},
     "output_type": "execute_result"
    }
   ],
   "source": [
    "import pandas as pd\n",
    "\n",
    "pd.read_sql(\"\"\"\n",
    "SELECT\n",
    "  corr(stars, price_level::float)       AS r_price,\n",
    "  corr(stars, has_wifi::float)          AS r_wifi,\n",
    "  corr(stars, outdoor_seating::float)   AS r_outdoor\n",
    "FROM yelp.business_coffee_sanitized;\n",
    "\"\"\", engine)\n"
   ]
  },
  {
   "cell_type": "code",
   "execution_count": 4,
   "id": "e9b173b3-affe-4dbe-b47b-ef5f99683080",
   "metadata": {},
   "outputs": [
    {
     "data": {
      "text/html": [
       "<div>\n",
       "<style scoped>\n",
       "    .dataframe tbody tr th:only-of-type {\n",
       "        vertical-align: middle;\n",
       "    }\n",
       "\n",
       "    .dataframe tbody tr th {\n",
       "        vertical-align: top;\n",
       "    }\n",
       "\n",
       "    .dataframe thead th {\n",
       "        text-align: right;\n",
       "    }\n",
       "</style>\n",
       "<table border=\"1\" class=\"dataframe\">\n",
       "  <thead>\n",
       "    <tr style=\"text-align: right;\">\n",
       "      <th></th>\n",
       "      <th>feature</th>\n",
       "      <th>delta_stars</th>\n",
       "    </tr>\n",
       "  </thead>\n",
       "  <tbody>\n",
       "    <tr>\n",
       "      <th>0</th>\n",
       "      <td>wifi</td>\n",
       "      <td>NaN</td>\n",
       "    </tr>\n",
       "    <tr>\n",
       "      <th>1</th>\n",
       "      <td>outdoor</td>\n",
       "      <td>0.476084</td>\n",
       "    </tr>\n",
       "  </tbody>\n",
       "</table>\n",
       "</div>"
      ],
      "text/plain": [
       "   feature  delta_stars\n",
       "0     wifi          NaN\n",
       "1  outdoor     0.476084"
      ]
     },
     "execution_count": 4,
     "metadata": {},
     "output_type": "execute_result"
    }
   ],
   "source": [
    "pd.read_sql(\"\"\"\n",
    "WITH a AS (\n",
    "  SELECT stars, has_wifi, outdoor_seating\n",
    "  FROM yelp.business_coffee_sanitized\n",
    ")\n",
    "SELECT\n",
    "  'wifi' AS feature,\n",
    "  AVG(stars) FILTER (WHERE has_wifi = 1)\n",
    "  - AVG(stars) FILTER (WHERE has_wifi IS DISTINCT FROM 1) AS delta_stars\n",
    "FROM a\n",
    "UNION ALL\n",
    "SELECT\n",
    "  'outdoor' AS feature,\n",
    "  AVG(stars) FILTER (WHERE outdoor_seating = 1)\n",
    "  - AVG(stars) FILTER (WHERE outdoor_seating IS DISTINCT FROM 1)\n",
    "FROM a;\n",
    "\"\"\", engine)\n"
   ]
  },
  {
   "cell_type": "code",
   "execution_count": 19,
   "id": "0e9ff15c-d1cc-4e2d-9c45-aee987117a75",
   "metadata": {},
   "outputs": [
    {
     "name": "stdin",
     "output_type": "stream",
     "text": [
      "Postgres password:  ········\n"
     ]
    },
    {
     "name": "stdout",
     "output_type": "stream",
     "text": [
      "Connected as: ('postgres', 'yelpdb')\n"
     ]
    }
   ],
   "source": [
    "!pip install sqlalchemy psycopg2-binary tqdm --quiet\n",
    "\n",
    "import json, os\n",
    "from sqlalchemy import create_engine, text\n",
    "from sqlalchemy.engine import URL\n",
    "from psycopg2.extras import Json, execute_values\n",
    "from tqdm import tqdm\n",
    "\n",
    "from getpass import getpass\n",
    "\n",
    "pg_password = getpass(\"Postgres password: \")\n",
    "\n",
    "connection_url = URL.create(\n",
    "    \"postgresql+psycopg2\",\n",
    "    username=\"postgres\",\n",
    "    password=pg_password,\n",
    "    host=\"localhost\",\n",
    "    port=5432,\n",
    "    database=\"yelpdb\",\n",
    ")\n",
    "\n",
    "engine = create_engine(connection_url, future=True)\n",
    "\n",
    "# Quick test\n",
    "with engine.connect() as conn:\n",
    "    who = conn.execute(text(\"select current_user, current_database()\")).one()\n",
    "print(\"Connected as:\", who)\n"
   ]
  },
  {
   "cell_type": "code",
   "execution_count": 7,
   "id": "a96a9da0-075b-4f9e-ae34-15b4784e751e",
   "metadata": {},
   "outputs": [],
   "source": [
    "from contextlib import contextmanager\n",
    "\n",
    "@contextmanager\n",
    "def pg_cursor(engine):\n",
    "    conn = engine.raw_connection()\n",
    "    try:\n",
    "        yield conn.cursor()\n",
    "        conn.commit()\n",
    "    except Exception:\n",
    "        conn.rollback()\n",
    "        raise\n",
    "    finally:\n",
    "        conn.close()\n",
    "\n",
    "def load_jsonl_to_pg(json_path, table_fullname, batch_size=5000):\n",
    "    \"\"\"\n",
    "    Streams a .json (NDJSON) file line-by-line, inserts valid JSON rows into\n",
    "    table_fullname (which must have a single column 'doc jsonb').\n",
    "    Skips malformed lines and reports counts.\n",
    "    \"\"\"\n",
    "    total = good = bad = 0\n",
    "    buf = []\n",
    "\n",
    "    if not os.path.exists(json_path):\n",
    "        raise FileNotFoundError(json_path)\n",
    "\n",
    "    with open(json_path, \"r\", encoding=\"utf-8\") as f, pg_cursor(engine) as cur:\n",
    "        # truncate target first (idempotent loads)\n",
    "        cur.execute(f\"TRUNCATE {table_fullname};\")\n",
    "\n",
    "        for line in tqdm(f, desc=f\"Loading {os.path.basename(json_path)}\"):\n",
    "            total += 1\n",
    "            line = line.strip()\n",
    "            if not line:\n",
    "                continue\n",
    "            try:\n",
    "                obj = json.loads(line)          # validate JSON\n",
    "                buf.append((Json(obj),))        # psycopg2 will adapt to jsonb\n",
    "                good += 1\n",
    "            except Exception:\n",
    "                bad += 1\n",
    "                continue\n",
    "\n",
    "            if len(buf) >= batch_size:\n",
    "                execute_values(cur,\n",
    "                               f\"INSERT INTO {table_fullname}(doc) VALUES %s\",\n",
    "                               buf, page_size=batch_size)\n",
    "                buf.clear()\n",
    "\n",
    "        if buf:\n",
    "            execute_values(cur,\n",
    "                           f\"INSERT INTO {table_fullname}(doc) VALUES %s\",\n",
    "                           buf, page_size=batch_size)\n",
    "\n",
    "    return {\"total_lines\": total, \"inserted\": good, \"skipped_bad\": bad}\n"
   ]
  },
  {
   "cell_type": "code",
   "execution_count": 8,
   "id": "e551d9d1-8578-4cbb-9ba7-471c15b75c39",
   "metadata": {},
   "outputs": [
    {
     "name": "stderr",
     "output_type": "stream",
     "text": [
      "Loading yelp_academic_dataset_business.json: 150346it [00:12, 11862.77it/s]\n"
     ]
    },
    {
     "data": {
      "text/plain": [
       "{'total_lines': 150346, 'inserted': 150346, 'skipped_bad': 0}"
      ]
     },
     "execution_count": 8,
     "metadata": {},
     "output_type": "execute_result"
    }
   ],
   "source": [
    "business_path = r\"C:\\Users\\syksh\\Coursera\\SQL-Capstone-Yelp\\data\\raw data\\yelp_academic_dataset_business.json\"\n",
    "\n",
    "stats = load_jsonl_to_pg(business_path, \"yelp.business_raw\", batch_size=5000)\n",
    "stats\n"
   ]
  },
  {
   "cell_type": "code",
   "execution_count": 18,
   "id": "92bcd0b9-9680-406a-acb6-4e5c708961d2",
   "metadata": {},
   "outputs": [
    {
     "data": {
      "text/plain": [
       "(150346, 6704)"
      ]
     },
     "execution_count": 18,
     "metadata": {},
     "output_type": "execute_result"
    }
   ],
   "source": [
    "from sqlalchemy import text\n",
    "\n",
    "with engine.begin() as conn:\n",
    "    # Drop dependent view(s) first\n",
    "    conn.execute(text(\"DROP VIEW IF EXISTS yelp.business_coffee_sanitized;\"))\n",
    "\n",
    "    # Now drop the tables\n",
    "    conn.execute(text(\"DROP TABLE IF EXISTS yelp.business_coffee;\"))\n",
    "    conn.execute(text(\"DROP TABLE IF EXISTS yelp.business;\"))\n",
    "\n",
    "    # Recreate yelp.business\n",
    "    conn.execute(text(\"\"\"\n",
    "        CREATE TABLE yelp.business AS\n",
    "        SELECT\n",
    "          doc->>'business_id'         AS business_id,\n",
    "          doc->>'name'                AS name,\n",
    "          doc->>'city'                AS city,\n",
    "          doc->>'state'               AS state,\n",
    "          doc->>'categories'          AS categories,\n",
    "          (doc->>'stars')::float      AS stars,\n",
    "          (doc->>'review_count')::int AS review_count,\n",
    "          doc->'attributes'           AS attributes,\n",
    "          doc->'hours'                AS hours\n",
    "        FROM yelp.business_raw;\n",
    "    \"\"\"))\n",
    "    conn.execute(text(\"ALTER TABLE yelp.business ADD PRIMARY KEY (business_id);\"))\n",
    "\n",
    "    # Recreate coffee table\n",
    "    conn.execute(text(\"\"\"\n",
    "        CREATE TABLE yelp.business_coffee AS\n",
    "        SELECT *\n",
    "        FROM yelp.business\n",
    "        WHERE categories ILIKE '%Coffee & Tea%';\n",
    "    \"\"\"))\n",
    "\n",
    "# sanity counts\n",
    "with engine.begin() as conn:\n",
    "    all_biz = conn.execute(text(\"SELECT COUNT(*) FROM yelp.business;\")).scalar_one()\n",
    "    coffee  = conn.execute(text(\"SELECT COUNT(*) FROM yelp.business_coffee;\")).scalar_one()\n",
    "all_biz, coffee\n"
   ]
  },
  {
   "cell_type": "code",
   "execution_count": 9,
   "id": "77f80820-e13d-4866-9f89-43cb104d04f5",
   "metadata": {},
   "outputs": [
    {
     "name": "stderr",
     "output_type": "stream",
     "text": [
      "Loading yelp_academic_dataset_review.json: 6990280it [07:09, 16280.59it/s]\n"
     ]
    },
    {
     "data": {
      "text/plain": [
       "{'total_lines': 6990280, 'inserted': 6990280, 'skipped_bad': 0}"
      ]
     },
     "execution_count": 9,
     "metadata": {},
     "output_type": "execute_result"
    }
   ],
   "source": [
    "# Path to the reviews file (adjust if your folder/name differs)\n",
    "review_path = r\"C:\\Users\\syksh\\Coursera\\SQL-Capstone-Yelp\\data\\raw data\\yelp_academic_dataset_review.json\"\n",
    "\n",
    "# This uses the load_jsonl_to_pg(...) function you already defined\n",
    "stats_rev = load_jsonl_to_pg(review_path, \"yelp.review_raw\", batch_size=10000)\n",
    "stats_rev  # shows {'total_lines': ..., 'inserted': ..., 'skipped_bad': ...}\n"
   ]
  },
  {
   "cell_type": "code",
   "execution_count": 18,
   "id": "d3a07403-0d3d-43a2-8135-20c82518f35e",
   "metadata": {},
   "outputs": [
    {
     "data": {
      "text/plain": [
       "(6990280, 442356)"
      ]
     },
     "execution_count": 18,
     "metadata": {},
     "output_type": "execute_result"
    }
   ],
   "source": [
    "from sqlalchemy import text\n",
    "\n",
    "with engine.begin() as conn:\n",
    "    # start clean\n",
    "    conn.execute(text(\"DROP TABLE IF EXISTS yelp.review_coffee;\"))\n",
    "    conn.execute(text(\"DROP TABLE IF EXISTS yelp.review;\"))\n",
    "\n",
    "    # build a robust typed table:\n",
    "    # - stars as FLOAT (handles \"3.0\")\n",
    "    # - date parsed only if it looks like YYYY-MM-DD...\n",
    "    # - useful cast to INT only if it's digits, else 0\n",
    "    conn.execute(text(\"\"\"\n",
    "        CREATE TABLE yelp.review AS\n",
    "        SELECT\n",
    "          doc->>'review_id'                 AS review_id,\n",
    "          doc->>'business_id'               AS business_id,\n",
    "          (doc->>'stars')::float            AS stars,\n",
    "          CASE\n",
    "            WHEN (doc->>'date') ~ '^[0-9]{4}-[0-9]{2}-[0-9]{2}'\n",
    "              THEN (doc->>'date')::timestamp\n",
    "            ELSE NULL\n",
    "          END                               AS review_date,\n",
    "          doc->>'text'                      AS text,\n",
    "          CASE\n",
    "            WHEN (doc->>'useful') ~ '^[0-9]+$'\n",
    "              THEN (doc->>'useful')::int\n",
    "            ELSE 0\n",
    "          END                               AS useful\n",
    "        FROM yelp.review_raw\n",
    "        WHERE (doc->>'stars') ~ '^[0-9]+(\\\\.[0-9]+)?$'\n",
    "          AND doc ? 'review_id'\n",
    "          AND doc ? 'business_id';\n",
    "    \"\"\"))\n",
    "\n",
    "    conn.execute(text(\"ALTER TABLE yelp.review ADD PRIMARY KEY (review_id);\"))\n",
    "    conn.execute(text(\"CREATE INDEX IF NOT EXISTS idx_review_business_id ON yelp.review(business_id);\"))\n",
    "\n",
    "    # coffee/tea-only subset\n",
    "    conn.execute(text(\"\"\"\n",
    "        CREATE TABLE yelp.review_coffee AS\n",
    "        SELECT r.*\n",
    "        FROM yelp.review r\n",
    "        JOIN yelp.business_coffee b USING (business_id);\n",
    "    \"\"\"))\n",
    "    conn.execute(text(\"CREATE INDEX IF NOT EXISTS idx_review_coffee_bid ON yelp.review_coffee(business_id);\"))\n",
    "\n",
    "# sanity counts\n",
    "with engine.begin() as conn:\n",
    "    n_all = conn.execute(text(\"SELECT COUNT(*) FROM yelp.review;\")).scalar_one()\n",
    "    n_cof = conn.execute(text(\"SELECT COUNT(*) FROM yelp.review_coffee;\")).scalar_one()\n",
    "\n",
    "n_all, n_cof\n"
   ]
  },
  {
   "cell_type": "code",
   "execution_count": 10,
   "id": "fa674c5e-1cd2-4886-bc7a-5451fb5fb3ea",
   "metadata": {},
   "outputs": [
    {
     "name": "stdout",
     "output_type": "stream",
     "text": [
      "reviews: 6990280  | coffee-only reviews: 442356\n"
     ]
    },
    {
     "data": {
      "text/html": [
       "<div>\n",
       "<style scoped>\n",
       "    .dataframe tbody tr th:only-of-type {\n",
       "        vertical-align: middle;\n",
       "    }\n",
       "\n",
       "    .dataframe tbody tr th {\n",
       "        vertical-align: top;\n",
       "    }\n",
       "\n",
       "    .dataframe thead th {\n",
       "        text-align: right;\n",
       "    }\n",
       "</style>\n",
       "<table border=\"1\" class=\"dataframe\">\n",
       "  <thead>\n",
       "    <tr style=\"text-align: right;\">\n",
       "      <th></th>\n",
       "      <th>review_id</th>\n",
       "      <th>business_id</th>\n",
       "      <th>stars</th>\n",
       "      <th>review_date</th>\n",
       "      <th>text</th>\n",
       "      <th>useful</th>\n",
       "    </tr>\n",
       "  </thead>\n",
       "  <tbody>\n",
       "    <tr>\n",
       "      <th>0</th>\n",
       "      <td>zTmYV7KFlEQSKu7POc5PUg</td>\n",
       "      <td>0ijmmbTvd8fcLclFVdpIsQ</td>\n",
       "      <td>3.0</td>\n",
       "      <td>2020-08-14 01:41:03</td>\n",
       "      <td>Food was quite good and the place has a cool l...</td>\n",
       "      <td>3</td>\n",
       "    </tr>\n",
       "    <tr>\n",
       "      <th>1</th>\n",
       "      <td>rzNt4vMn2ROFISZoXhWQvg</td>\n",
       "      <td>MhmZuFRxLt-54jaRBZ8X2w</td>\n",
       "      <td>5.0</td>\n",
       "      <td>2020-10-30 13:13:57</td>\n",
       "      <td>Went from an old pair of wooden french doors t...</td>\n",
       "      <td>0</td>\n",
       "    </tr>\n",
       "    <tr>\n",
       "      <th>2</th>\n",
       "      <td>NDkqReZB29BPSWkcf_td9g</td>\n",
       "      <td>kfpwO_cdVQdTh2_oMDZ51Q</td>\n",
       "      <td>5.0</td>\n",
       "      <td>2020-09-03 14:17:48</td>\n",
       "      <td>Stopped by here twice. Once for lunch and the ...</td>\n",
       "      <td>0</td>\n",
       "    </tr>\n",
       "  </tbody>\n",
       "</table>\n",
       "</div>"
      ],
      "text/plain": [
       "                review_id             business_id  stars         review_date  \\\n",
       "0  zTmYV7KFlEQSKu7POc5PUg  0ijmmbTvd8fcLclFVdpIsQ    3.0 2020-08-14 01:41:03   \n",
       "1  rzNt4vMn2ROFISZoXhWQvg  MhmZuFRxLt-54jaRBZ8X2w    5.0 2020-10-30 13:13:57   \n",
       "2  NDkqReZB29BPSWkcf_td9g  kfpwO_cdVQdTh2_oMDZ51Q    5.0 2020-09-03 14:17:48   \n",
       "\n",
       "                                                text  useful  \n",
       "0  Food was quite good and the place has a cool l...       3  \n",
       "1  Went from an old pair of wooden french doors t...       0  \n",
       "2  Stopped by here twice. Once for lunch and the ...       0  "
      ]
     },
     "metadata": {},
     "output_type": "display_data"
    },
    {
     "data": {
      "text/html": [
       "<div>\n",
       "<style scoped>\n",
       "    .dataframe tbody tr th:only-of-type {\n",
       "        vertical-align: middle;\n",
       "    }\n",
       "\n",
       "    .dataframe tbody tr th {\n",
       "        vertical-align: top;\n",
       "    }\n",
       "\n",
       "    .dataframe thead th {\n",
       "        text-align: right;\n",
       "    }\n",
       "</style>\n",
       "<table border=\"1\" class=\"dataframe\">\n",
       "  <thead>\n",
       "    <tr style=\"text-align: right;\">\n",
       "      <th></th>\n",
       "      <th>review_id</th>\n",
       "      <th>business_id</th>\n",
       "      <th>stars</th>\n",
       "      <th>review_date</th>\n",
       "      <th>text</th>\n",
       "      <th>useful</th>\n",
       "    </tr>\n",
       "  </thead>\n",
       "  <tbody>\n",
       "    <tr>\n",
       "      <th>0</th>\n",
       "      <td>yX4bm3CbcU6JSjulBeEhOw</td>\n",
       "      <td>C8qLAGhE2UP3NgdShFuOPg</td>\n",
       "      <td>5.0</td>\n",
       "      <td>2021-04-11 17:07:26</td>\n",
       "      <td>I'm an avid Tiger Sugar fan and I can say that...</td>\n",
       "      <td>4</td>\n",
       "    </tr>\n",
       "    <tr>\n",
       "      <th>1</th>\n",
       "      <td>a8dkRAIhXGu2P5FxqY0XmQ</td>\n",
       "      <td>MdcgaLvlmhYwpb5l3NT19g</td>\n",
       "      <td>5.0</td>\n",
       "      <td>2021-05-31 03:44:10</td>\n",
       "      <td>I love cooking with all the delicious olive oi...</td>\n",
       "      <td>0</td>\n",
       "    </tr>\n",
       "    <tr>\n",
       "      <th>2</th>\n",
       "      <td>WVEylTcUIDRqlUUNRQyhMw</td>\n",
       "      <td>picPFi6JAQ6VDQUCOqftmQ</td>\n",
       "      <td>1.0</td>\n",
       "      <td>2020-10-07 19:36:56</td>\n",
       "      <td>How is this place even open? It's barely a bus...</td>\n",
       "      <td>0</td>\n",
       "    </tr>\n",
       "  </tbody>\n",
       "</table>\n",
       "</div>"
      ],
      "text/plain": [
       "                review_id             business_id  stars         review_date  \\\n",
       "0  yX4bm3CbcU6JSjulBeEhOw  C8qLAGhE2UP3NgdShFuOPg    5.0 2021-04-11 17:07:26   \n",
       "1  a8dkRAIhXGu2P5FxqY0XmQ  MdcgaLvlmhYwpb5l3NT19g    5.0 2021-05-31 03:44:10   \n",
       "2  WVEylTcUIDRqlUUNRQyhMw  picPFi6JAQ6VDQUCOqftmQ    1.0 2020-10-07 19:36:56   \n",
       "\n",
       "                                                text  useful  \n",
       "0  I'm an avid Tiger Sugar fan and I can say that...       4  \n",
       "1  I love cooking with all the delicious olive oi...       0  \n",
       "2  How is this place even open? It's barely a bus...       0  "
      ]
     },
     "metadata": {},
     "output_type": "display_data"
    }
   ],
   "source": [
    "from sqlalchemy import text\n",
    "import pandas as pd\n",
    "\n",
    "# counts\n",
    "with engine.begin() as conn:\n",
    "    n_all = conn.execute(text(\"SELECT COUNT(*) FROM yelp.review;\")).scalar_one()\n",
    "    n_cof = conn.execute(text(\"SELECT COUNT(*) FROM yelp.review_coffee;\")).scalar_one()\n",
    "print(\"reviews:\", n_all, \" | coffee-only reviews:\", n_cof)\n",
    "\n",
    "# peek a few rows to confirm schema\n",
    "display(pd.read_sql(\"SELECT * FROM yelp.review LIMIT 3;\", engine))\n",
    "display(pd.read_sql(\"SELECT * FROM yelp.review_coffee LIMIT 3;\", engine))\n"
   ]
  },
  {
   "cell_type": "code",
   "execution_count": 11,
   "id": "5b562b9e-2581-46c3-bb16-9e57d87b3ff5",
   "metadata": {},
   "outputs": [
    {
     "name": "stdout",
     "output_type": "stream",
     "text": [
      "businesses: 150346 | coffee businesses: 6704 | reviews: 6990280 | coffee reviews: 442356\n"
     ]
    }
   ],
   "source": [
    "from sqlalchemy import text\n",
    "import pandas as pd\n",
    "\n",
    "with engine.begin() as conn:\n",
    "    n_biz  = conn.execute(text(\"SELECT COUNT(*) FROM yelp.business;\")).scalar_one()\n",
    "    n_cofB = conn.execute(text(\"SELECT COUNT(*) FROM yelp.business_coffee;\")).scalar_one()\n",
    "    n_rev  = conn.execute(text(\"SELECT COUNT(*) FROM yelp.review;\")).scalar_one()\n",
    "    n_cofR = conn.execute(text(\"SELECT COUNT(*) FROM yelp.review_coffee;\")).scalar_one()\n",
    "print(\"businesses:\", n_biz, \"| coffee businesses:\", n_cofB,\n",
    "      \"| reviews:\", n_rev, \"| coffee reviews:\", n_cofR)\n"
   ]
  },
  {
   "cell_type": "code",
   "execution_count": 12,
   "id": "fd77e6ff-8db3-4cc7-a40d-e8342797827c",
   "metadata": {},
   "outputs": [
    {
     "data": {
      "text/html": [
       "<div>\n",
       "<style scoped>\n",
       "    .dataframe tbody tr th:only-of-type {\n",
       "        vertical-align: middle;\n",
       "    }\n",
       "\n",
       "    .dataframe tbody tr th {\n",
       "        vertical-align: top;\n",
       "    }\n",
       "\n",
       "    .dataframe thead th {\n",
       "        text-align: right;\n",
       "    }\n",
       "</style>\n",
       "<table border=\"1\" class=\"dataframe\">\n",
       "  <thead>\n",
       "    <tr style=\"text-align: right;\">\n",
       "      <th></th>\n",
       "      <th>r</th>\n",
       "    </tr>\n",
       "  </thead>\n",
       "  <tbody>\n",
       "    <tr>\n",
       "      <th>0</th>\n",
       "      <td>0.239948</td>\n",
       "    </tr>\n",
       "  </tbody>\n",
       "</table>\n",
       "</div>"
      ],
      "text/plain": [
       "          r\n",
       "0  0.239948"
      ]
     },
     "execution_count": 12,
     "metadata": {},
     "output_type": "execute_result"
    }
   ],
   "source": [
    "pd.read_sql(\"\"\"\n",
    "SELECT corr(stars::float, ln(review_count + 1)::float) AS r\n",
    "FROM yelp.business_coffee\n",
    "WHERE stars IS NOT NULL AND review_count IS NOT NULL;\n",
    "\"\"\", engine)\n"
   ]
  },
  {
   "cell_type": "code",
   "execution_count": 13,
   "id": "adc0ecc0-96d0-4f93-a64a-e337198f89c6",
   "metadata": {},
   "outputs": [
    {
     "data": {
      "text/html": [
       "<div>\n",
       "<style scoped>\n",
       "    .dataframe tbody tr th:only-of-type {\n",
       "        vertical-align: middle;\n",
       "    }\n",
       "\n",
       "    .dataframe tbody tr th {\n",
       "        vertical-align: top;\n",
       "    }\n",
       "\n",
       "    .dataframe thead th {\n",
       "        text-align: right;\n",
       "    }\n",
       "</style>\n",
       "<table border=\"1\" class=\"dataframe\">\n",
       "  <thead>\n",
       "    <tr style=\"text-align: right;\">\n",
       "      <th></th>\n",
       "      <th>diff_stars</th>\n",
       "      <th>cohen_d_stars</th>\n",
       "      <th>diff_reviews</th>\n",
       "    </tr>\n",
       "  </thead>\n",
       "  <tbody>\n",
       "    <tr>\n",
       "      <th>0</th>\n",
       "      <td>0.263998</td>\n",
       "      <td>0.262665</td>\n",
       "      <td>39.89379</td>\n",
       "    </tr>\n",
       "  </tbody>\n",
       "</table>\n",
       "</div>"
      ],
      "text/plain": [
       "   diff_stars  cohen_d_stars  diff_reviews\n",
       "0    0.263998       0.262665      39.89379"
      ]
     },
     "execution_count": 13,
     "metadata": {},
     "output_type": "execute_result"
    }
   ],
   "source": [
    "pd.read_sql(\"\"\"\n",
    "WITH city_counts AS (\n",
    "  SELECT city, COUNT(*) AS biz FROM yelp.business_coffee GROUP BY city\n",
    "),\n",
    "ranked AS (\n",
    "  SELECT city, biz, NTILE(100) OVER (ORDER BY biz) AS pctile FROM city_counts\n",
    "),\n",
    "biz_city AS (\n",
    "  SELECT b.*, (r.pctile >= 85)::int AS urban\n",
    "  FROM yelp.business_coffee b JOIN ranked r USING (city)\n",
    "),\n",
    "agg AS (\n",
    "  SELECT urban,\n",
    "         AVG(stars::float) AS avg_stars,\n",
    "         STDDEV_POP(stars::float) AS sd_stars,\n",
    "         AVG(review_count::float) AS avg_reviews,\n",
    "         STDDEV_POP(review_count::float) AS sd_reviews,\n",
    "         COUNT(*) AS n\n",
    "  FROM biz_city\n",
    "  GROUP BY urban\n",
    ")\n",
    "SELECT\n",
    "  (SELECT avg_stars FROM agg WHERE urban=1) - (SELECT avg_stars FROM agg WHERE urban=0) AS diff_stars,\n",
    "  (\n",
    "    (SELECT avg_stars FROM agg WHERE urban=1) - (SELECT avg_stars FROM agg WHERE urban=0)\n",
    "  ) / SQRT((\n",
    "    (SELECT sd_stars^2*(n-1) FROM agg WHERE urban=1) +\n",
    "    (SELECT sd_stars^2*(n-1) FROM agg WHERE urban=0)\n",
    "  )::float / (\n",
    "    (SELECT n FROM agg WHERE urban=1) + (SELECT n FROM agg WHERE urban=0) - 2\n",
    "  )) AS cohen_d_stars,\n",
    "  (SELECT avg_reviews FROM agg WHERE urban=1) - (SELECT avg_reviews FROM agg WHERE urban=0) AS diff_reviews\n",
    "\"\"\", engine)\n"
   ]
  },
  {
   "cell_type": "code",
   "execution_count": 14,
   "id": "ad9607cc-0253-4370-8c90-b6b9003e8678",
   "metadata": {},
   "outputs": [
    {
     "name": "stdout",
     "output_type": "stream",
     "text": [
      "Top positive terms: coffee, great, place, good, food, love, delicious, service, friendly, best, staff, breakfast, like, amazing, really\n",
      "Top negative terms: coffee, food, order, place, service, just, time, like, good, don, minutes, ordered, got, drive, ve\n"
     ]
    }
   ],
   "source": [
    "# install once per kernel\n",
    "!pip install scikit-learn --quiet\n",
    "\n",
    "import pandas as pd\n",
    "from sqlalchemy import text\n",
    "from sklearn.feature_extraction.text import TfidfVectorizer\n",
    "import numpy as np\n",
    "\n",
    "# grab a manageable slice (you can remove LIMIT once it runs fine)\n",
    "q = \"\"\"\n",
    "SELECT text, stars\n",
    "FROM yelp.review_coffee\n",
    "WHERE text IS NOT NULL\n",
    "LIMIT 200000\n",
    "\"\"\"\n",
    "df = pd.read_sql(q, engine)\n",
    "\n",
    "# buckets\n",
    "pos = df[df[\"stars\"]>=4][\"text\"].fillna(\"\")\n",
    "neg = df[df[\"stars\"]<=2][\"text\"].fillna(\"\")\n",
    "\n",
    "# vectorize\n",
    "vec = TfidfVectorizer(lowercase=True, stop_words=\"english\", min_df=10, max_features=20000)\n",
    "X_pos = vec.fit_transform(pos)\n",
    "feat = np.array(vec.get_feature_names_out())\n",
    "top_pos = feat[np.argsort((X_pos.mean(axis=0).A1))[-15:][::-1]]\n",
    "\n",
    "# re-fit on negatives to get their distinctive terms\n",
    "vec2 = TfidfVectorizer(lowercase=True, stop_words=\"english\", min_df=10, max_features=20000)\n",
    "X_neg = vec2.fit_transform(neg)\n",
    "feat2 = np.array(vec2.get_feature_names_out())\n",
    "top_neg = feat2[np.argsort((X_neg.mean(axis=0).A1))[-15:][::-1]]\n",
    "\n",
    "print(\"Top positive terms:\", \", \".join(top_pos))\n",
    "print(\"Top negative terms:\", \", \".join(top_neg))\n"
   ]
  },
  {
   "cell_type": "code",
   "execution_count": 15,
   "id": "8a002b64-7b94-4602-aa79-d600363eb870",
   "metadata": {},
   "outputs": [
    {
     "data": {
      "text/html": [
       "<div>\n",
       "<style scoped>\n",
       "    .dataframe tbody tr th:only-of-type {\n",
       "        vertical-align: middle;\n",
       "    }\n",
       "\n",
       "    .dataframe tbody tr th {\n",
       "        vertical-align: top;\n",
       "    }\n",
       "\n",
       "    .dataframe thead th {\n",
       "        text-align: right;\n",
       "    }\n",
       "</style>\n",
       "<table border=\"1\" class=\"dataframe\">\n",
       "  <thead>\n",
       "    <tr style=\"text-align: right;\">\n",
       "      <th></th>\n",
       "      <th>r</th>\n",
       "    </tr>\n",
       "  </thead>\n",
       "  <tbody>\n",
       "    <tr>\n",
       "      <th>0</th>\n",
       "      <td>0.239948</td>\n",
       "    </tr>\n",
       "  </tbody>\n",
       "</table>\n",
       "</div>"
      ],
      "text/plain": [
       "          r\n",
       "0  0.239948"
      ]
     },
     "execution_count": 15,
     "metadata": {},
     "output_type": "execute_result"
    }
   ],
   "source": [
    "# H1 (reviews ↔ stars)\n",
    "pd.read_sql(\"\"\"\n",
    "SELECT corr(stars::float, ln(review_count + 1)::float) AS r\n",
    "FROM yelp.business_coffee\n",
    "WHERE stars IS NOT NULL AND review_count IS NOT NULL;\n",
    "\"\"\", engine)\n"
   ]
  },
  {
   "cell_type": "code",
   "execution_count": 17,
   "id": "2a644c23-e792-4c24-9bca-427f5670de27",
   "metadata": {},
   "outputs": [
    {
     "data": {
      "text/html": [
       "<div>\n",
       "<style scoped>\n",
       "    .dataframe tbody tr th:only-of-type {\n",
       "        vertical-align: middle;\n",
       "    }\n",
       "\n",
       "    .dataframe tbody tr th {\n",
       "        vertical-align: top;\n",
       "    }\n",
       "\n",
       "    .dataframe thead th {\n",
       "        text-align: right;\n",
       "    }\n",
       "</style>\n",
       "<table border=\"1\" class=\"dataframe\">\n",
       "  <thead>\n",
       "    <tr style=\"text-align: right;\">\n",
       "      <th></th>\n",
       "      <th>diff_stars</th>\n",
       "      <th>cohen_d_stars</th>\n",
       "      <th>diff_reviews</th>\n",
       "    </tr>\n",
       "  </thead>\n",
       "  <tbody>\n",
       "    <tr>\n",
       "      <th>0</th>\n",
       "      <td>0.263998</td>\n",
       "      <td>0.262665</td>\n",
       "      <td>39.89379</td>\n",
       "    </tr>\n",
       "  </tbody>\n",
       "</table>\n",
       "</div>"
      ],
      "text/plain": [
       "   diff_stars  cohen_d_stars  diff_reviews\n",
       "0    0.263998       0.262665      39.89379"
      ]
     },
     "execution_count": 17,
     "metadata": {},
     "output_type": "execute_result"
    }
   ],
   "source": [
    "#H2 (urban vs non-urban)\n",
    "\n",
    "pd.read_sql(\"\"\"\n",
    "WITH city_counts AS (\n",
    "  SELECT city, COUNT(*) AS biz FROM yelp.business_coffee GROUP BY city\n",
    "),\n",
    "ranked AS (\n",
    "  SELECT city, biz, NTILE(100) OVER (ORDER BY biz) AS pctile FROM city_counts\n",
    "),\n",
    "biz_city AS (\n",
    "  SELECT b.*, (r.pctile >= 85)::int AS urban\n",
    "  FROM yelp.business_coffee b JOIN ranked r USING (city)\n",
    "),\n",
    "agg AS (\n",
    "  SELECT urban,\n",
    "         AVG(stars::float) AS avg_stars,\n",
    "         STDDEV_POP(stars::float) AS sd_stars,\n",
    "         AVG(review_count::float) AS avg_reviews,\n",
    "         STDDEV_POP(review_count::float) AS sd_reviews,\n",
    "         COUNT(*) AS n\n",
    "  FROM biz_city\n",
    "  GROUP BY urban\n",
    ")\n",
    "SELECT\n",
    "  (SELECT avg_stars FROM agg WHERE urban=1) - (SELECT avg_stars FROM agg WHERE urban=0) AS diff_stars,\n",
    "  (\n",
    "    (SELECT avg_stars FROM agg WHERE urban=1) - (SELECT avg_stars FROM agg WHERE urban=0)\n",
    "  ) / SQRT((\n",
    "    (SELECT sd_stars^2*(n-1) FROM agg WHERE urban=1) +\n",
    "    (SELECT sd_stars^2*(n-1) FROM agg WHERE urban=0)\n",
    "  )::float / (\n",
    "    (SELECT n FROM agg WHERE urban=1) + (SELECT n FROM agg WHERE urban=0) - 2\n",
    "  )) AS cohen_d_stars,\n",
    "  (SELECT avg_reviews FROM agg WHERE urban=1) - (SELECT avg_reviews FROM agg WHERE urban=0) AS diff_reviews\n",
    "\"\"\", engine)\n"
   ]
  },
  {
   "cell_type": "code",
   "execution_count": 6,
   "id": "9884187c-f520-495f-9789-d2aa40852f95",
   "metadata": {},
   "outputs": [
    {
     "name": "stdout",
     "output_type": "stream",
     "text": [
      "Saved business sample to: C:\\Users\\syksh\\Coursera\\SQL-Capstone-Yelp\\data\\raw_data\\sample_business.csv (100 rows)\n",
      "Saved review sample to: C:\\Users\\syksh\\Coursera\\SQL-Capstone-Yelp\\data\\raw_data\\sample_review.csv (300 rows)\n"
     ]
    }
   ],
   "source": [
    "from pathlib import Path\n",
    "\n",
    "# Project root = wherever your notebook lives\n",
    "PROJECT_DIR = Path.cwd().parent  # ..\\SQL-Capstone-Yelp\\notebooks\\ → goes up one level\n",
    "DATA_DIR = PROJECT_DIR / \"data\" / \"raw_data\"   # safer to avoid space in folder name!\n",
    "SAMPLES_DIR = DATA_DIR   # write samples directly into raw_data\n",
    "\n",
    "\n",
    "# --- Generate small, matching samples for GitHub users ---\n",
    "N_BUSINESS = 100\n",
    "N_REVIEWS  = 300\n",
    "\n",
    "OUT_BIZ = SAMPLES_DIR / \"sample_business.csv\"\n",
    "OUT_REV = SAMPLES_DIR / \"sample_review.csv\"\n",
    "\n",
    "# Deterministic sample (seed + sample in the SAME connection)\n",
    "with engine.begin() as conn:\n",
    "    conn.execute(text(\"SELECT setseed(0.42);\"))\n",
    "    sample_biz = pd.read_sql(\n",
    "        text(\"\"\"\n",
    "            SELECT *\n",
    "            FROM yelp.business\n",
    "            WHERE categories ILIKE '%Coffee & Tea%'\n",
    "            ORDER BY random()\n",
    "            LIMIT :n\n",
    "        \"\"\"),\n",
    "        conn,\n",
    "        params={\"n\": N_BUSINESS}\n",
    "    )\n",
    "\n",
    "biz_ids = sample_biz[\"business_id\"].tolist() or [\"__none__\"]\n",
    "\n",
    "qry_reviews = text(\"\"\"\n",
    "    SELECT *\n",
    "    FROM yelp.review\n",
    "    WHERE business_id IN :ids\n",
    "    LIMIT :cap\n",
    "\"\"\").bindparams(bindparam(\"ids\", expanding=True), bindparam(\"cap\"))\n",
    "\n",
    "with engine.begin() as conn:\n",
    "    sample_reviews = pd.read_sql(qry_reviews, conn, params={\"ids\": biz_ids, \"cap\": N_REVIEWS})\n",
    "\n",
    "# Write files (→ data/samples/)\n",
    "sample_biz.to_csv(OUT_BIZ, index=False)\n",
    "sample_reviews.to_csv(OUT_REV, index=False)\n",
    "\n",
    "print(\"Saved business sample to:\", OUT_BIZ.resolve(), f\"({len(sample_biz)} rows)\")\n",
    "print(\"Saved review sample to:\", OUT_REV.resolve(), f\"({len(sample_reviews)} rows)\")\n",
    "\n"
   ]
  },
  {
   "cell_type": "code",
   "execution_count": null,
   "id": "aa9bacbc-892f-422b-8653-1b8885a94935",
   "metadata": {},
   "outputs": [],
   "source": []
  }
 ],
 "metadata": {
  "kernelspec": {
   "display_name": "Python 3 (ipykernel)",
   "language": "python",
   "name": "python3"
  },
  "language_info": {
   "codemirror_mode": {
    "name": "ipython",
    "version": 3
   },
   "file_extension": ".py",
   "mimetype": "text/x-python",
   "name": "python",
   "nbconvert_exporter": "python",
   "pygments_lexer": "ipython3",
   "version": "3.12.4"
  }
 },
 "nbformat": 4,
 "nbformat_minor": 5
}
